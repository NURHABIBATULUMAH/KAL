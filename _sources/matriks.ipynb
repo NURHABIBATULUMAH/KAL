{
 "cells": [
  {
   "cell_type": "markdown",
   "metadata": {},
   "source": [
    "# Matriks\n",
    "\n",
    "### Definisi Matriks\n",
    "\n",
    "Matriks adalah sebuah susunan persegi panjang yang terdiri dari elemen-elemen (angka atau simbol) yang terorganisir dalam baris dan kolom. Matriks tersusun dari baris dan kolom, Baris di sumbu x dan kolom disumbu y. Matriks biasanya dituliskan dengan huruf besar, contoh $A=[a]ij$, dimana A merepresentasikan matriks, i merupakan baris dan j merupakan kolom.\n",
    "\n",
    "### Operasi Aritmetika Matriks\n",
    "\n",
    "1. Penjumalahan Matrik\n",
    "    Konsep penjumalahan matriks:\n",
    "    Penjumlahan matriks adalah operasi yang dilakukan dengan menjumlahkan elemen-elemen yang bersesuaian pada dua matriks yang memiliki ukuran yang sama.Penjumlahan matriks dapat dilakukan jika jumlah baris dan kolomnya sama.\n",
    "\n",
    "    contoh penjumlahan matriks:\n",
    "\n",
    "    Terdapat dua buah matriks yaitu matriks A dan matriks B yang memiliki ukuran baris dan kolom yang sama, maka penjumlahan matriks A + B akan menghasilkan matriks C = A + B \n",
    "\n",
    "    $$\n",
    "\\begin{bmatrix}\n",
    "1 & 3 & 5 \\\\\n",
    "2 & 4 & 6 \\\\\n",
    "7 & 8 & 9\n",
    "\\end{bmatrix}\n",
    "$$"
   ]
  },
  {
   "cell_type": "code",
   "execution_count": null,
   "metadata": {},
   "outputs": [],
   "source": [
    "# penjumlahan matriks\n",
    "\n",
    "konsep penjumalahan matriks:\n",
    "    Penjumlahan matriks adalah operasi yang dilakukan dengan menjumlahkan elemen-elemen yang bersesuaian pada dua matriks yang memiliki ukuran yang sama.penjumlahan matriks dapat dilakukan jika jumlah baris dan kolomnya sama"
   ]
  },
  {
   "cell_type": "markdown",
   "metadata": {},
   "source": []
  }
 ],
 "metadata": {
  "language_info": {
   "name": "python"
  }
 },
 "nbformat": 4,
 "nbformat_minor": 2
}
