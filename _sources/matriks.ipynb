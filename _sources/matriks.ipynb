{
 "cells": [
  {
   "cell_type": "markdown",
   "metadata": {},
   "source": [
    "# Matriks\n",
    "\n",
    "### Definisi Matriks\n",
    "\n",
    "Matriks adalah sebuah susunan persegi panjang yang terdiri dari elemen-elemen (angka atau simbol) yang terorganisir dalam baris dan kolom. Matriks tersusun dari baris dan kolom, Baris di sumbu x dan kolom disumbu y. Matriks biasanya dituliskan dengan huruf besar, contoh $A=[a]ij$, dimana A merepresentasikan matriks, i merupakan baris dan j merupakan kolom.\n",
    "\n",
    "### Operasi Aritmetika Matriks\n",
    "\n",
    "1. Penjumalahan Matrik\n",
    "\n",
    "    Konsep penjumalahan matriks:\n",
    "\n",
    "    Penjumlahan matriks adalah operasi yang dilakukan dengan menjumlahkan elemen-elemen yang bersesuaian pada dua matriks yang memiliki ukuran yang sama.Penjumlahan matriks dapat dilakukan jika jumlah baris dan kolomnya sama.\n",
    "\n",
    "    Terdapat dua buah matriks yaitu matriks A dan matriks B yang memiliki ukuran baris dan kolom yang sama, maka penjumlahan matriks A + B akan menghasilkan matriks C = A + B \n",
    "\n",
    "    Dimana elemen $c_{ij}$ pada matriks hasil penjumlahan C adalah hasil penjumlahan elemen - elemen yang bersesuai pada matriks A dan B. \n",
    "\n",
    "    $$ c_{ij} = a_{ij} + b_{ij}$$\n",
    "\n",
    "    contoh penjumlahan matriks:\n",
    "\n",
    "    Misal ada 2 matriks A dan B:\n",
    "\n",
    "    $$\n",
    "    A:\n",
    "    \\begin{bmatrix}\n",
    "    1 & 3 \\\\\n",
    "    2 & 4\n",
    "    \\end{bmatrix}\n",
    "    $$\n",
    "\n",
    "    $$\n",
    "    B:\n",
    "    \\begin{bmatrix}\n",
    "    2 & 6 \\\\\n",
    "    4 & 8\n",
    "    \\end{bmatrix}\n",
    "    $$\n",
    "\n",
    "    penjumlahan A + B adalah:\n",
    "\n",
    "    $$\n",
    "    A + B =\n",
    "    \\begin{bmatrix}\n",
    "    1+2 & 3+6 \\\\\n",
    "    2+4 & 4+8\n",
    "    \\end{bmatrix}\n",
    "    $$\n",
    "\n",
    "    Jadi hasil penjumlahan matriks A + B = \n",
    "\n",
    "     $$\n",
    "     C: \n",
    "    \\begin{bmatrix}\n",
    "    3 & 9 \\\\\n",
    "    6 & 12\n",
    "    \\end{bmatrix}\n",
    "    $$"
   ]
  },
  {
   "cell_type": "code",
   "execution_count": null,
   "metadata": {},
   "outputs": [
    {
     "name": "stdout",
     "output_type": "stream",
     "text": [
      "hasil penjumlahan matriks A + B adalah:  [[3, 9], [6, 12]]\n"
     ]
    }
   ],
   "source": [
    "# implementasi ke python penjumlahan matriks\n",
    "A=[[1,3],[2,4]]\n",
    "B=[[2,6],[4,8]]\n",
    "\n",
    "baris=len(A)\n",
    "kolom=len(A[0])\n",
    "\n",
    "C=[]\n",
    "for i in range(baris):\n",
    "    matbaru=[]\n",
    "    for j in range (kolom):\n",
    "        matbaru.append(A[i][j] + B[i][j])\n",
    "    C.append(matbaru)\n",
    "\n",
    "print('hasil penjumlahan matriks A + B adalah: ', C)"
   ]
  },
  {
   "cell_type": "markdown",
   "metadata": {},
   "source": []
  }
 ],
 "metadata": {
  "kernelspec": {
   "display_name": "Python 3",
   "language": "python",
   "name": "python3"
  },
  "language_info": {
   "codemirror_mode": {
    "name": "ipython",
    "version": 3
   },
   "file_extension": ".py",
   "mimetype": "text/x-python",
   "name": "python",
   "nbconvert_exporter": "python",
   "pygments_lexer": "ipython3",
   "version": "3.12.1"
  }
 },
 "nbformat": 4,
 "nbformat_minor": 2
}
