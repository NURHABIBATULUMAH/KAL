{
 "cells": [
  {
   "cell_type": "markdown",
   "metadata": {},
   "source": [
    "# Matriks\n",
    "\n",
    "### Definisi Matriks\n",
    "\n",
    "Matriks adalah sebuah susunan persegi panjang yang terdiri dari elemen-elemen (angka atau simbol) yang terorganisir dalam baris dan kolom. Matriks tersusun dari baris dan kolom, Baris di sumbu x dan kolom disumbu y. Matriks biasanya dituliskan dengan huruf besar, contoh $A=[a]ij$, dimana A merepresentasikan matriks, i merupakan baris dan j merupakan kolom.\n",
    "\n",
    "### Operasi Aritmetika Matriks\n",
    "\n",
    "1. Penjumalahan Matrik\n",
    "\n",
    "    Konsep penjumalahan matriks:\n",
    "\n",
    "    Penjumlahan matriks adalah operasi yang dilakukan dengan menjumlahkan elemen-elemen yang bersesuaian pada dua matriks yang memiliki ukuran yang sama.Penjumlahan matriks dapat dilakukan jika jumlah baris dan kolomnya sama.\n",
    "\n",
    "    Terdapat dua buah matriks yaitu matriks A dan matriks B yang memiliki ukuran baris dan kolom yang sama, maka penjumlahan matriks A + B akan menghasilkan matriks C = A + B \n",
    "\n",
    "    Dimana elemen $c_{ij}$ pada matriks hasil penjumlahan C adalah hasil penjumlahan elemen - elemen yang bersesuai pada matriks A dan B. \n",
    "\n",
    "    $$ c_{ij} = a_{ij} + b_{ij}$$\n",
    "\n",
    "    contoh penjumlahan matriks:\n",
    "\n",
    "    Misal ada 2 matriks A dan B:\n",
    "\n",
    "    $$\n",
    "    A:\n",
    "    \\begin{bmatrix}\n",
    "    1 & 3 \\\\\n",
    "    2 & 4\n",
    "    \\end{bmatrix}\n",
    "    $$\n",
    "\n",
    "    $$\n",
    "    B:\n",
    "    \\begin{bmatrix}\n",
    "    2 & 6 \\\\\n",
    "    4 & 8\n",
    "    \\end{bmatrix}\n",
    "    $$\n",
    "\n",
    "    penjumlahan A + B adalah:\n",
    "\n",
    "    $$\n",
    "    A + B =\n",
    "    \\begin{bmatrix}\n",
    "    1+2 & 3+6 \\\\\n",
    "    2+4 & 4+8\n",
    "    \\end{bmatrix}\n",
    "    $$\n",
    "\n",
    "    Jadi hasil penjumlahan matriks A + B = \n",
    "\n",
    "     $$\n",
    "     C: \n",
    "    \\begin{bmatrix}\n",
    "    3 & 9 \\\\\n",
    "    6 & 12\n",
    "    \\end{bmatrix}\n",
    "    $$"
   ]
  },
  {
   "cell_type": "code",
   "execution_count": null,
   "metadata": {},
   "outputs": [],
   "source": [
    "# penjumlahan matriks\n",
    "\n",
    "konsep penjumalahan matriks:\n",
    "    Penjumlahan matriks adalah operasi yang dilakukan dengan menjumlahkan elemen-elemen yang bersesuaian pada dua matriks yang memiliki ukuran yang sama.penjumlahan matriks dapat dilakukan jika jumlah baris dan kolomnya sama"
   ]
  },
  {
   "cell_type": "markdown",
   "metadata": {},
   "source": []
  }
 ],
 "metadata": {
  "language_info": {
   "name": "python"
  }
 },
 "nbformat": 4,
 "nbformat_minor": 2
}
