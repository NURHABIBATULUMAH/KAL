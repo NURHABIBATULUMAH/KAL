{
 "cells": [
  {
   "cell_type": "markdown",
   "id": "9138b1fd",
   "metadata": {},
   "source": [
    "# Eignvalue dan Eignvector\n",
    "## 1. Definisi Eignvalues dan Eignvector\n",
    "\n",
    "## Mencari Eign Value dan Eign Vector dari:\n",
    "\n",
    "### a. \n",
    "\n",
    "$$\n",
    "A : \n",
    "\\begin{bmatrix}\n",
    "2 & 4 \\\\\n",
    "3 & 3\n",
    "\\end{bmatrix}\n",
    "$$\n",
    "\n",
    "## b. \n",
    "\n",
    "$$\n",
    "a_{12}: \n",
    "\\begin{bmatrix}\n",
    "2 & 4 \\\\\n",
    "3 & 3\n",
    "\\end{bmatrix}\n",
    "$$\n"
   ]
  }
 ],
 "metadata": {
  "language_info": {
   "name": "python"
  }
 },
 "nbformat": 4,
 "nbformat_minor": 5
}
